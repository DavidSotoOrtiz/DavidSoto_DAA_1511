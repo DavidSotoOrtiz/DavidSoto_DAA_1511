{
  "nbformat": 4,
  "nbformat_minor": 0,
  "metadata": {
    "colab": {
      "name": "EDD_BigO_1511.ipynb",
      "provenance": [],
      "authorship_tag": "ABX9TyOnAojuE5uv69qMEdDuIyKr",
      "include_colab_link": true
    },
    "kernelspec": {
      "name": "python3",
      "display_name": "Python 3"
    },
    "language_info": {
      "name": "python"
    }
  },
  "cells": [
    {
      "cell_type": "markdown",
      "metadata": {
        "id": "view-in-github",
        "colab_type": "text"
      },
      "source": [
        "<a href=\"https://colab.research.google.com/github/TheSnazzyMan/DavidSoto_DAA_1511/blob/master/EDD_BigO_1511.ipynb\" target=\"_parent\"><img src=\"https://colab.research.google.com/assets/colab-badge.svg\" alt=\"Open In Colab\"/></a>"
      ]
    },
    {
      "cell_type": "markdown",
      "metadata": {
        "id": "ZmtD6LCPK0rd"
      },
      "source": [
        "#Árboles binarios \n",
        "\n",
        "árbol binario de búsqueda"
      ]
    },
    {
      "cell_type": "code",
      "metadata": {
        "id": "9bvJ63JgMUn-"
      },
      "source": [
        "  class NodoArbol:\n",
        "    def __init__( self, value, left= None , rigth=None ):\n",
        "          self.data = value\n",
        "          self.left = left\n",
        "          self.rigth = rigth\n",
        "\n",
        "  class ArbolBB:\n",
        "    def __init__( self ):\n",
        "         self.__root = None\n",
        "\n",
        "    def insert( self , value ):\n",
        "        if self.__root == None:\n",
        "            self.__root = NodoArbol( value )\n",
        "        else:\n",
        "            self.__insert_nodo__( self.__root , value )\n",
        "\n",
        "    def __insert_nodo__( self , nodo , value ):\n",
        "        if nodo.data == value:\n",
        "            print(\"Ya existe\")\n",
        "            pass\n",
        "        elif value < nodo.data:\n",
        "            if nodo.left == None:\n",
        "                nodo.left = NodoArbol(value)\n",
        "            else:\n",
        "                self.__insert_nodo__(nodo.left , value)\n",
        "        else:\n",
        "            if nodo.rigth == None:\n",
        "                nodo.rigth == NodoArbol(value)\n",
        "            else:\n",
        "              self.__insert_nodo__(nodo.rigth , value)\n",
        "\n",
        "      #preorden, posorden \n",
        "    def transversal( self , formato =\"inorden\" ):\n",
        "          if formato == \"inorden\": \n",
        "             print(\"inOrden\")\n",
        "             self.recorrido_in( self.__root )\n",
        "             print()\n",
        "          elif formato == \"preorden\":\n",
        "            print(\"Preorden\")\n",
        "            self.recorrido_pre( self.__root )\n",
        "            print()\n",
        "          else: #post \n",
        "            print(\"Pos orden\")\n",
        "            self.recorrido_pos( self.__root)\n",
        "            print()\n",
        "\n",
        "    def recorrido_in( self , nodo):\n",
        "          if nodo != None: \n",
        "              self.recorrido_in( nodo.left )\n",
        "              print( nodo.data , end=\"  \")\n",
        "              self.recorrido_in( nodo.rigth )\n",
        "      \n",
        "    def recorrido_pre( self , nodo ):\n",
        "        if nodo != None: \n",
        "          print( nodo.data , end= \"  \")\n",
        "          self.recorrido_in( nodo.left )\n",
        "          self.recorrido_in( nodo.rigth )\n",
        "      \n",
        "    def recorrido_pos(self , nodo ):\n",
        "          if nodo != None: \n",
        "            self.recorrido_in( nodo.left )\n",
        "            self.recorrido_in( nodo.rigth )\n",
        "            print( nodo.data , end=\"  \")\n",
        "      \n",
        "    def buscar( self , value ):\n",
        "          if self.__root == None: \n",
        "              print(\"Arbol vacío\")\n",
        "              return None\n",
        "          else:\n",
        "              return self.busca_nodo( self.__root , value )\n",
        "\n",
        "    def busca_nodo( self , nodo , value ):\n",
        "          if nodo == None:\n",
        "             #print(\"No existe\")\n",
        "             return \"No existe el valor\"\n",
        "          elif nodo.data == value:\n",
        "             print(\"Encontrado\" , nodo.data)\n",
        "             return nodo\n",
        "          elif value < nodo.data:\n",
        "              #print(\"Buscar de lado izq\")\n",
        "              return self.busca_nodo(nodo.left , value)\n",
        "          else:\n",
        "              #print(\"Buscar de lado derecho\")\n",
        "              return self.busca_nodo(nodo.rigth , value )\n",
        "            "
      ],
      "execution_count": 28,
      "outputs": []
    },
    {
      "cell_type": "code",
      "metadata": {
        "id": "a-e_nnT2Jf_A"
      },
      "source": [
        "  abb = ArbolBB()\n",
        "  \n",
        "  abb.insert(55)\n",
        "  abb.insert(14)\n",
        "  abb.insert(27)\n",
        "  abb.insert(15)\n",
        "  abb.insert(21)\n",
        "  abb.insert(80)\n",
        "  abb.insert(27)\n",
        "  \"\"\"\n",
        "  abb.insert(6)\n",
        "  abb.insert(3)\n",
        "  abb.insert(8)\n",
        "  \"\"\"\n",
        "  abb.transversal(\"inorden\")\n",
        "  abb.transversal(\"preorden\")\n",
        "  abb.transversal(\"posorden\")\n",
        "  res = abb.buscar(27)\n",
        "\n",
        "  print(\"Resultado:\" , res.left.data  )\n",
        "  print(\"Resultado:\" , res.rigth  )"
      ],
      "execution_count": null,
      "outputs": []
    },
    {
      "cell_type": "code",
      "metadata": {
        "id": "zzwCBGLV36T-"
      },
      "source": [
        "  raiz = NodoArbol(60 , None , None )\n",
        "  raiz.left = NodoArbol( 40 , None , None )\n",
        "  print(raiz.left.data)\n",
        "\n",
        "  # lo mismo pero como programador ninja\n",
        "  raiz = NodoArbol(60,NodoArbol(40),None)\n",
        "  print(raiz.left.data)\n",
        "\n",
        "\n",
        "  raiz = NodoArbol( 60, NodoArbol(40 , NodoArbol(30))  ,   NodoArbol(70)   )\n",
        "  print( raiz.left.left.data )\n",
        "\n",
        "  #imprimir el hijo mas a la izq\n",
        "  print(\"Imprimir recorriendo primero la rama izquierda\")\n",
        "  curr_node = raiz\n",
        "  while curr_node = curr_node.left\n",
        "      curr_node = curr_node.left\n",
        "  print(curr_node.data)"
      ],
      "execution_count": null,
      "outputs": []
    }
  ]
}