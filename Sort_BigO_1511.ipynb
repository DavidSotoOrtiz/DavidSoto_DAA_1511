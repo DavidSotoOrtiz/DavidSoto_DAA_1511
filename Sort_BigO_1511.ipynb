{
  "nbformat": 4,
  "nbformat_minor": 0,
  "metadata": {
    "colab": {
      "name": "Sort_BigO_1511.ipynb",
      "provenance": [],
      "authorship_tag": "ABX9TyOGduCxAu7aiTwlceWdAA18",
      "include_colab_link": true
    },
    "kernelspec": {
      "name": "python3",
      "display_name": "Python 3"
    },
    "language_info": {
      "name": "python"
    }
  },
  "cells": [
    {
      "cell_type": "markdown",
      "metadata": {
        "id": "view-in-github",
        "colab_type": "text"
      },
      "source": [
        "<a href=\"https://colab.research.google.com/github/TheSnazzyMan/DavidSoto_DAA_1511/blob/master/Sort_BigO_1511.ipynb\" target=\"_parent\"><img src=\"https://colab.research.google.com/assets/colab-badge.svg\" alt=\"Open In Colab\"/></a>"
      ]
    },
    {
      "cell_type": "markdown",
      "metadata": {
        "id": "ogvLlovZtiIZ"
      },
      "source": [
        "#Merge sort"
      ]
    },
    {
      "cell_type": "code",
      "metadata": {
        "id": "zkGW3zmVtnaZ"
      },
      "source": [
        "def mergeSort( data ):  # M   O( n )      P O( 1 )\n",
        "  tam = len( data )     # M   O( 1 )      P O( 1 )\n",
        "  #print(f\" recibido: {data }\")\n",
        "  if tam ==1: # caso base de la recursividad  # M   O( 0 )      P O( na )\n",
        "      return data  # M   O( 0 )      P O( 1 )\n",
        "\n",
        "  mid = tam // 2  # M   O( 1 )      P O( 2 )\n",
        "  I = mergeSort( data[ 0 : mid: 1] ) # M   O( 0 )      P O( (Log n) / 2 )\n",
        "  D = mergeSort( data[ mid:   : 1] )\n",
        "  #print(f\"{I}\\t\\t {D}\")\n",
        "  return merge( I , D )\n",
        "  # M   O(  )      P O(  )\n",
        "def merge( I , D ):\n",
        "    resultado = [0] * (len(I) + len(D))\n",
        "    i = 0\n",
        "    d = 0\n",
        "    r = 0\n",
        "    while i < len( I ) and d < len( D ):\n",
        "      if I[i] < D[d]:\n",
        "          resultado[r] = I[i]\n",
        "          i += 1\n",
        "      else:\n",
        "          resultado[r] = D[d]\n",
        "          d += 1\n",
        "      r += 1\n",
        "      #Procesar los faltantes ya sea a la der o a la izq\n",
        "      while i < len( I ):\n",
        "        resultado[r] = I[i]\n",
        "        i += 1\n",
        "        r += 1\n",
        "      \n",
        "      while d < len( D ):\n",
        "        resultado[r] = D[d]\n",
        "        d += 1\n",
        "        r += 1\n",
        "      return resultado \n",
        "      # \n",
        "\n",
        "\n",
        "\n"
      ],
      "execution_count": null,
      "outputs": []
    },
    {
      "cell_type": "code",
      "metadata": {
        "colab": {
          "base_uri": "https://localhost:8080/"
        },
        "id": "ESIkIW_2zH_8",
        "outputId": "7e313619-61c3-46a3-84a4-367f97d6a648"
      },
      "source": [
        "numeros = [22,13,109,33,21,564678998755756464335,676876867568765687648876,85767543548]\n",
        "print(mergeSort(numeros))\n",
        "\n",
        "numero = [8,4,10,3,20,18,12,15]\n",
        "print(mergeSort(numeros))"
      ],
      "execution_count": null,
      "outputs": [
        {
          "output_type": "stream",
          "name": "stdout",
          "text": [
            "[13, 22, 33, 109, 21, 564678998755756464335, 85767543548, 676876867568765687648876]\n",
            "[13, 22, 33, 109, 21, 564678998755756464335, 85767543548, 676876867568765687648876]\n"
          ]
        }
      ]
    },
    {
      "cell_type": "code",
      "metadata": {
        "colab": {
          "base_uri": "https://localhost:8080/"
        },
        "id": "mxTl_P-3wXbD",
        "outputId": "0c4822a3-ad55-4768-92bb-d5a9a5e017d1"
      },
      "source": [
        "  frutas = ['peras','manzanas','kiwi','limon','aguacate','uva,''sandia']\n",
        "  print(frutas)\n",
        "  #Slicing sirve para sacar rebanadas de un iterable \n",
        "  #frutas[<>ini :<stop> :<> ]\n",
        "  #NOTA: el stop no se incluye, se incluye el valor previo \n",
        "\n",
        "  print( frutas[ 0: 3 : 1] )\n",
        "  print( frutas[2 : 6 : 1] )\n",
        "  print( len(frutas ))\n",
        "  mid = len(frutas) // 2\n",
        "  print( mid )\n",
        "  print( frutas[ 0 : mid : 1] )\n",
        "  print( frutas[mid : : 1] )"
      ],
      "execution_count": null,
      "outputs": [
        {
          "output_type": "stream",
          "name": "stdout",
          "text": [
            "['peras', 'manzanas', 'kiwi', 'limon', 'aguacate', 'uva,sandia']\n",
            "['peras', 'manzanas', 'kiwi']\n",
            "['kiwi', 'limon', 'aguacate', 'uva,sandia']\n",
            "6\n",
            "3\n",
            "['peras', 'manzanas', 'kiwi']\n",
            "['limon', 'aguacate', 'uva,sandia']\n"
          ]
        }
      ]
    },
    {
      "cell_type": "code",
      "metadata": {
        "id": "ce1dkFlw2R_7"
      },
      "source": [
        "  I = [ 2 , 8 ]\n",
        "  D = [3 , 22 ]\n",
        "  resultado = [0] * (len(I) * len(D))\n",
        "  print(resultado)"
      ],
      "execution_count": null,
      "outputs": []
    },
    {
      "cell_type": "markdown",
      "metadata": {
        "id": "j_L3ej8HTt05"
      },
      "source": [
        "# Algoritmo de busqueda\n",
        "\n",
        "###busqueda lineal\n",
        "\n",
        "-secuencial \n",
        "\n",
        "búsqueda binaria "
      ]
    },
    {
      "cell_type": "code",
      "metadata": {
        "colab": {
          "base_uri": "https://localhost:8080/",
          "height": 228
        },
        "id": "1aKp9Ha9T9kB",
        "outputId": "793c48c9-eb6b-42df-a384-857f4e23bc1f"
      },
      "source": [
        "\n",
        "\n",
        "def busqueda_lineal1( valor_a_buscar , datos ): # M O ( 1 + n)   P   O (1)\n",
        "    idx = 1 # M(1)       P     O(1)\n",
        "    for index in range( len(datos) ):\n",
        "        print(f\"Comparación # { index + 1 }\")\n",
        "        if datos( index ) == valor_a_buscar: # M O (0)           P   O( n ) \n",
        "          idx = index \n",
        "          break\n",
        "    return idx #M O (0)     P    O(1)\n",
        "# M O(n)      P   O(n)\n",
        "datos = [2,10,5,2,8,3,55,4,23,11,14]\n",
        "\n",
        "indice = busqueda_lineal( dato , datos)\n",
        "\n",
        "if indice != -1 :\n",
        "    print(f\"La posicion de { dato } es {indice}\")\n",
        "else: \n",
        "  print(\"El valor no esta en la lista\")\n"
      ],
      "execution_count": null,
      "outputs": [
        {
          "output_type": "error",
          "ename": "NameError",
          "evalue": "ignored",
          "traceback": [
            "\u001b[0;31m---------------------------------------------------------------------------\u001b[0m",
            "\u001b[0;31mNameError\u001b[0m                                 Traceback (most recent call last)",
            "\u001b[0;32m<ipython-input-3-647163ceae15>\u001b[0m in \u001b[0;36m<module>\u001b[0;34m()\u001b[0m\n\u001b[1;32m     12\u001b[0m \u001b[0mdatos\u001b[0m \u001b[0;34m=\u001b[0m \u001b[0;34m[\u001b[0m\u001b[0;36m2\u001b[0m\u001b[0;34m,\u001b[0m\u001b[0;36m10\u001b[0m\u001b[0;34m,\u001b[0m\u001b[0;36m5\u001b[0m\u001b[0;34m,\u001b[0m\u001b[0;36m2\u001b[0m\u001b[0;34m,\u001b[0m\u001b[0;36m8\u001b[0m\u001b[0;34m,\u001b[0m\u001b[0;36m3\u001b[0m\u001b[0;34m,\u001b[0m\u001b[0;36m55\u001b[0m\u001b[0;34m,\u001b[0m\u001b[0;36m4\u001b[0m\u001b[0;34m,\u001b[0m\u001b[0;36m23\u001b[0m\u001b[0;34m,\u001b[0m\u001b[0;36m11\u001b[0m\u001b[0;34m,\u001b[0m\u001b[0;36m14\u001b[0m\u001b[0;34m]\u001b[0m\u001b[0;34m\u001b[0m\u001b[0;34m\u001b[0m\u001b[0m\n\u001b[1;32m     13\u001b[0m \u001b[0;34m\u001b[0m\u001b[0m\n\u001b[0;32m---> 14\u001b[0;31m \u001b[0mindice\u001b[0m \u001b[0;34m=\u001b[0m \u001b[0mbusqueda_lineal\u001b[0m\u001b[0;34m(\u001b[0m \u001b[0mdato\u001b[0m \u001b[0;34m,\u001b[0m \u001b[0mdatos\u001b[0m\u001b[0;34m)\u001b[0m\u001b[0;34m\u001b[0m\u001b[0;34m\u001b[0m\u001b[0m\n\u001b[0m\u001b[1;32m     15\u001b[0m \u001b[0;34m\u001b[0m\u001b[0m\n\u001b[1;32m     16\u001b[0m \u001b[0;32mif\u001b[0m \u001b[0mindice\u001b[0m \u001b[0;34m!=\u001b[0m \u001b[0;34m-\u001b[0m\u001b[0;36m1\u001b[0m \u001b[0;34m:\u001b[0m\u001b[0;34m\u001b[0m\u001b[0;34m\u001b[0m\u001b[0m\n",
            "\u001b[0;31mNameError\u001b[0m: name 'busqueda_lineal' is not defined"
          ]
        }
      ]
    },
    {
      "cell_type": "markdown",
      "metadata": {
        "id": "yuDuwIJ2YkML"
      },
      "source": [
        "        camparacion #1\n",
        "        La posicion de 2 es 0 "
      ]
    },
    {
      "cell_type": "code",
      "metadata": {
        "colab": {
          "base_uri": "https://localhost:8080/"
        },
        "id": "Y1mQZtETYq2w",
        "outputId": "09a1ab02-0b8f-46e0-a185-1af4095f73aa"
      },
      "source": [
        "def busqueda_binaria_rec(valor_a_buscar, datos, ini, fin):\n",
        "  print(f\"Iteracion\", datos)\n",
        "  mid = ini +((fin-ini)//2)\n",
        "  if ini >= fin:\n",
        "    return -1\n",
        "  if datos[mid] == valor_a_buscar:\n",
        "    return mid\n",
        "  elif datos[mid] < valor_a_buscar:\n",
        "    return busqueda_binaria_rec(valor_a_buscar, datos, mid+1, fin )\n",
        "  else:\n",
        "    return busqueda_binaria_rec(valor_a_buscar, datos, ini, mid)\n",
        "\n",
        "lista = [2,10,5,22,8,3,55,4,23,11,14,6,7,9,12,13,15,16,17]\n",
        "dato = 55\n",
        "lista.sort()\n",
        "indice = busqueda_binaria_rec(dato, lista, 0, len(lista))\n",
        "print(indice)\n"
      ],
      "execution_count": 1,
      "outputs": [
        {
          "output_type": "stream",
          "name": "stdout",
          "text": [
            "Iteracion [2, 3, 4, 5, 6, 7, 8, 9, 10, 11, 12, 13, 14, 15, 16, 17, 22, 23, 55]\n",
            "Iteracion [2, 3, 4, 5, 6, 7, 8, 9, 10, 11, 12, 13, 14, 15, 16, 17, 22, 23, 55]\n",
            "Iteracion [2, 3, 4, 5, 6, 7, 8, 9, 10, 11, 12, 13, 14, 15, 16, 17, 22, 23, 55]\n",
            "Iteracion [2, 3, 4, 5, 6, 7, 8, 9, 10, 11, 12, 13, 14, 15, 16, 17, 22, 23, 55]\n",
            "18\n"
          ]
        }
      ]
    },
    {
      "cell_type": "code",
      "metadata": {
        "colab": {
          "base_uri": "https://localhost:8080/"
        },
        "id": "IZXFZu-n0Vnl",
        "outputId": "9e802577-5de3-477a-ec9c-dffaccf408d0"
      },
      "source": [
        "def binaria( L , buscado):\n",
        "    print(L)\n",
        "    mid = len(L)//2\n",
        "    if( len(L) == 0 ):\n",
        "        return -1\n",
        "    if L[mid] == buscado:\n",
        "        return L[mid]\n",
        "    elif L[mid] < buscado:\n",
        "        return binaria( L[mid+1::] , buscado)\n",
        "    else:\n",
        "        return binaria(L[:mid:], buscado)\n",
        "\n",
        "datos = [2,10,5,22,8,3,55,4,23,11,14,6,7,9,12,13,15,16,17]\n",
        "dato = 6\n",
        "datos.sort()\n",
        "indice = binaria(datos , dato)\n",
        "print(indice)\n",
        "\n",
        "print(len(datos))\n",
        "\n",
        "for d in datos:\n",
        "    print(binaria(datos, d))\n",
        "    print(\" .-..-.-.-.-.-.-.-.-.-.-.\")"
      ],
      "execution_count": 6,
      "outputs": [
        {
          "output_type": "stream",
          "name": "stdout",
          "text": [
            "[2, 3, 4, 5, 6, 7, 8, 9, 10, 11, 12, 13, 14, 15, 16, 17, 22, 23, 55]\n",
            "[2, 3, 4, 5, 6, 7, 8, 9, 10]\n",
            "6\n",
            "19\n",
            "[2, 3, 4, 5, 6, 7, 8, 9, 10, 11, 12, 13, 14, 15, 16, 17, 22, 23, 55]\n",
            "[2, 3, 4, 5, 6, 7, 8, 9, 10]\n",
            "[2, 3, 4, 5]\n",
            "[2, 3]\n",
            "[2]\n",
            "2\n",
            " .-..-.-.-.-.-.-.-.-.-.-.\n",
            "[2, 3, 4, 5, 6, 7, 8, 9, 10, 11, 12, 13, 14, 15, 16, 17, 22, 23, 55]\n",
            "[2, 3, 4, 5, 6, 7, 8, 9, 10]\n",
            "[2, 3, 4, 5]\n",
            "[2, 3]\n",
            "3\n",
            " .-..-.-.-.-.-.-.-.-.-.-.\n",
            "[2, 3, 4, 5, 6, 7, 8, 9, 10, 11, 12, 13, 14, 15, 16, 17, 22, 23, 55]\n",
            "[2, 3, 4, 5, 6, 7, 8, 9, 10]\n",
            "[2, 3, 4, 5]\n",
            "4\n",
            " .-..-.-.-.-.-.-.-.-.-.-.\n",
            "[2, 3, 4, 5, 6, 7, 8, 9, 10, 11, 12, 13, 14, 15, 16, 17, 22, 23, 55]\n",
            "[2, 3, 4, 5, 6, 7, 8, 9, 10]\n",
            "[2, 3, 4, 5]\n",
            "[5]\n",
            "5\n",
            " .-..-.-.-.-.-.-.-.-.-.-.\n",
            "[2, 3, 4, 5, 6, 7, 8, 9, 10, 11, 12, 13, 14, 15, 16, 17, 22, 23, 55]\n",
            "[2, 3, 4, 5, 6, 7, 8, 9, 10]\n",
            "6\n",
            " .-..-.-.-.-.-.-.-.-.-.-.\n",
            "[2, 3, 4, 5, 6, 7, 8, 9, 10, 11, 12, 13, 14, 15, 16, 17, 22, 23, 55]\n",
            "[2, 3, 4, 5, 6, 7, 8, 9, 10]\n",
            "[7, 8, 9, 10]\n",
            "[7, 8]\n",
            "[7]\n",
            "7\n",
            " .-..-.-.-.-.-.-.-.-.-.-.\n",
            "[2, 3, 4, 5, 6, 7, 8, 9, 10, 11, 12, 13, 14, 15, 16, 17, 22, 23, 55]\n",
            "[2, 3, 4, 5, 6, 7, 8, 9, 10]\n",
            "[7, 8, 9, 10]\n",
            "[7, 8]\n",
            "8\n",
            " .-..-.-.-.-.-.-.-.-.-.-.\n",
            "[2, 3, 4, 5, 6, 7, 8, 9, 10, 11, 12, 13, 14, 15, 16, 17, 22, 23, 55]\n",
            "[2, 3, 4, 5, 6, 7, 8, 9, 10]\n",
            "[7, 8, 9, 10]\n",
            "9\n",
            " .-..-.-.-.-.-.-.-.-.-.-.\n",
            "[2, 3, 4, 5, 6, 7, 8, 9, 10, 11, 12, 13, 14, 15, 16, 17, 22, 23, 55]\n",
            "[2, 3, 4, 5, 6, 7, 8, 9, 10]\n",
            "[7, 8, 9, 10]\n",
            "[10]\n",
            "10\n",
            " .-..-.-.-.-.-.-.-.-.-.-.\n",
            "[2, 3, 4, 5, 6, 7, 8, 9, 10, 11, 12, 13, 14, 15, 16, 17, 22, 23, 55]\n",
            "11\n",
            " .-..-.-.-.-.-.-.-.-.-.-.\n",
            "[2, 3, 4, 5, 6, 7, 8, 9, 10, 11, 12, 13, 14, 15, 16, 17, 22, 23, 55]\n",
            "[12, 13, 14, 15, 16, 17, 22, 23, 55]\n",
            "[12, 13, 14, 15]\n",
            "[12, 13]\n",
            "[12]\n",
            "12\n",
            " .-..-.-.-.-.-.-.-.-.-.-.\n",
            "[2, 3, 4, 5, 6, 7, 8, 9, 10, 11, 12, 13, 14, 15, 16, 17, 22, 23, 55]\n",
            "[12, 13, 14, 15, 16, 17, 22, 23, 55]\n",
            "[12, 13, 14, 15]\n",
            "[12, 13]\n",
            "13\n",
            " .-..-.-.-.-.-.-.-.-.-.-.\n",
            "[2, 3, 4, 5, 6, 7, 8, 9, 10, 11, 12, 13, 14, 15, 16, 17, 22, 23, 55]\n",
            "[12, 13, 14, 15, 16, 17, 22, 23, 55]\n",
            "[12, 13, 14, 15]\n",
            "14\n",
            " .-..-.-.-.-.-.-.-.-.-.-.\n",
            "[2, 3, 4, 5, 6, 7, 8, 9, 10, 11, 12, 13, 14, 15, 16, 17, 22, 23, 55]\n",
            "[12, 13, 14, 15, 16, 17, 22, 23, 55]\n",
            "[12, 13, 14, 15]\n",
            "[15]\n",
            "15\n",
            " .-..-.-.-.-.-.-.-.-.-.-.\n",
            "[2, 3, 4, 5, 6, 7, 8, 9, 10, 11, 12, 13, 14, 15, 16, 17, 22, 23, 55]\n",
            "[12, 13, 14, 15, 16, 17, 22, 23, 55]\n",
            "16\n",
            " .-..-.-.-.-.-.-.-.-.-.-.\n",
            "[2, 3, 4, 5, 6, 7, 8, 9, 10, 11, 12, 13, 14, 15, 16, 17, 22, 23, 55]\n",
            "[12, 13, 14, 15, 16, 17, 22, 23, 55]\n",
            "[17, 22, 23, 55]\n",
            "[17, 22]\n",
            "[17]\n",
            "17\n",
            " .-..-.-.-.-.-.-.-.-.-.-.\n",
            "[2, 3, 4, 5, 6, 7, 8, 9, 10, 11, 12, 13, 14, 15, 16, 17, 22, 23, 55]\n",
            "[12, 13, 14, 15, 16, 17, 22, 23, 55]\n",
            "[17, 22, 23, 55]\n",
            "[17, 22]\n",
            "22\n",
            " .-..-.-.-.-.-.-.-.-.-.-.\n",
            "[2, 3, 4, 5, 6, 7, 8, 9, 10, 11, 12, 13, 14, 15, 16, 17, 22, 23, 55]\n",
            "[12, 13, 14, 15, 16, 17, 22, 23, 55]\n",
            "[17, 22, 23, 55]\n",
            "23\n",
            " .-..-.-.-.-.-.-.-.-.-.-.\n",
            "[2, 3, 4, 5, 6, 7, 8, 9, 10, 11, 12, 13, 14, 15, 16, 17, 22, 23, 55]\n",
            "[12, 13, 14, 15, 16, 17, 22, 23, 55]\n",
            "[17, 22, 23, 55]\n",
            "[55]\n",
            "55\n",
            " .-..-.-.-.-.-.-.-.-.-.-.\n"
          ]
        }
      ]
    }
  ]
}