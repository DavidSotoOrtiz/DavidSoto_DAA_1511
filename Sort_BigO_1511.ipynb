{
  "nbformat": 4,
  "nbformat_minor": 0,
  "metadata": {
    "colab": {
      "name": "Sort_BigO_1511.ipynb",
      "provenance": [],
      "authorship_tag": "ABX9TyMHuadPyYUg+z8+b4a6sExQ",
      "include_colab_link": true
    },
    "kernelspec": {
      "name": "python3",
      "display_name": "Python 3"
    },
    "language_info": {
      "name": "python"
    }
  },
  "cells": [
    {
      "cell_type": "markdown",
      "metadata": {
        "id": "view-in-github",
        "colab_type": "text"
      },
      "source": [
        "<a href=\"https://colab.research.google.com/github/TheSnazzyMan/DavidSoto_DAA_1511/blob/master/Sort_BigO_1511.ipynb\" target=\"_parent\"><img src=\"https://colab.research.google.com/assets/colab-badge.svg\" alt=\"Open In Colab\"/></a>"
      ]
    },
    {
      "cell_type": "markdown",
      "metadata": {
        "id": "ogvLlovZtiIZ"
      },
      "source": [
        "#Merge sort"
      ]
    },
    {
      "cell_type": "code",
      "metadata": {
        "id": "zkGW3zmVtnaZ"
      },
      "source": [
        "def mergeSort( data ):  # M   O( n )      P O( 1 )\n",
        "  tam = len( data )     # M   O( 1 )      P O( 1 )\n",
        "  #print(f\" recibido: {data }\")\n",
        "  if tam ==1: # caso base de la recursividad  # M   O( 0 )      P O( na )\n",
        "      return data  # M   O( 0 )      P O( 1 )\n",
        "\n",
        "  mid = tam // 2  # M   O( 1 )      P O( 2 )\n",
        "  I = mergeSort( data[ 0 : mid: 1] ) # M   O( 0 )      P O( (Log n) / 2 )\n",
        "  D = mergeSort( data[ mid:   : 1] )\n",
        "  #print(f\"{I}\\t\\t {D}\")\n",
        "  return merge( I , D )\n",
        "  # M   O(  )      P O(  )\n",
        "def merge( I , D ):\n",
        "    resultado = [0] * (len(I) + len(D))\n",
        "    i = 0\n",
        "    d = 0\n",
        "    r = 0\n",
        "    while i < len( I ) and d < len( D ):\n",
        "      if I[i] < D[d]:\n",
        "          resultado[r] = I[i]\n",
        "          i += 1\n",
        "      else:\n",
        "          resultado[r] = D[d]\n",
        "          d += 1\n",
        "      r += 1\n",
        "      #Procesar los faltantes ya sea a la der o a la izq\n",
        "      while i < len( I ):\n",
        "        resultado[r] = I[i]\n",
        "        i += 1\n",
        "        r += 1\n",
        "      \n",
        "      while d < len( D ):\n",
        "        resultado[r] = D[d]\n",
        "        d += 1\n",
        "        r += 1\n",
        "      return resultado \n",
        "      # \n",
        "\n",
        "\n",
        "\n"
      ],
      "execution_count": 11,
      "outputs": []
    },
    {
      "cell_type": "code",
      "metadata": {
        "colab": {
          "base_uri": "https://localhost:8080/"
        },
        "id": "ESIkIW_2zH_8",
        "outputId": "4403b601-e783-471c-f1c4-e3fd8a17a7c1"
      },
      "source": [
        "numeros = [10,51,2,18,4,31,12,5]\n",
        "print(mergeSort(numeros))\n",
        "\n",
        "numero = [8,4,10,3,20,18,12,15]\n",
        "print(mergeSort(numeros))"
      ],
      "execution_count": 12,
      "outputs": [
        {
          "output_type": "stream",
          "name": "stdout",
          "text": [
            "[2, 10, 51, 18, 4, 31, 5, 12]\n",
            "[2, 10, 51, 18, 4, 31, 5, 12]\n"
          ]
        }
      ]
    },
    {
      "cell_type": "code",
      "metadata": {
        "colab": {
          "base_uri": "https://localhost:8080/"
        },
        "id": "mxTl_P-3wXbD",
        "outputId": "0c4822a3-ad55-4768-92bb-d5a9a5e017d1"
      },
      "source": [
        "  frutas = ['peras','manzanas','kiwi','limon','aguacate','uva,''sandia']\n",
        "  print(frutas)\n",
        "  #Slicing sirve para sacar rebanadas de un iterable \n",
        "  #frutas[<>ini :<stop> :<> ]\n",
        "  #NOTA: el stop no se incluye, se incluye el valor previo \n",
        "\n",
        "  print( frutas[ 0: 3 : 1] )\n",
        "  print( frutas[2 : 6 : 1] )\n",
        "  print( len(frutas ))\n",
        "  mid = len(frutas) // 2\n",
        "  print( mid )\n",
        "  print( frutas[ 0 : mid : 1] )\n",
        "  print( frutas[mid : : 1] )"
      ],
      "execution_count": null,
      "outputs": [
        {
          "output_type": "stream",
          "name": "stdout",
          "text": [
            "['peras', 'manzanas', 'kiwi', 'limon', 'aguacate', 'uva,sandia']\n",
            "['peras', 'manzanas', 'kiwi']\n",
            "['kiwi', 'limon', 'aguacate', 'uva,sandia']\n",
            "6\n",
            "3\n",
            "['peras', 'manzanas', 'kiwi']\n",
            "['limon', 'aguacate', 'uva,sandia']\n"
          ]
        }
      ]
    },
    {
      "cell_type": "code",
      "metadata": {
        "id": "ce1dkFlw2R_7"
      },
      "source": [
        "  I = [ 2 , 8 ]\n",
        "  D = [3 , 22 ]\n",
        "  resultado = [0] * (len(I) * len(D))\n",
        "  print(resultado)"
      ],
      "execution_count": null,
      "outputs": []
    }
  ]
}