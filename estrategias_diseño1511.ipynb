{
  "nbformat": 4,
  "nbformat_minor": 0,
  "metadata": {
    "colab": {
      "name": "estrategias_diseño1511.ipynb",
      "provenance": [],
      "collapsed_sections": [],
      "authorship_tag": "ABX9TyPglv7BkYH4aCTbETNE5EWS",
      "include_colab_link": true
    },
    "kernelspec": {
      "name": "python3",
      "display_name": "Python 3"
    },
    "language_info": {
      "name": "python"
    }
  },
  "cells": [
    {
      "cell_type": "markdown",
      "metadata": {
        "id": "view-in-github",
        "colab_type": "text"
      },
      "source": [
        "<a href=\"https://colab.research.google.com/github/TheSnazzyMan/DavidSoto_DAA_1511/blob/master/estrategias_dise%C3%B1o1511.ipynb\" target=\"_parent\"><img src=\"https://colab.research.google.com/assets/colab-badge.svg\" alt=\"Open In Colab\"/></a>"
      ]
    },
    {
      "cell_type": "markdown",
      "metadata": {
        "id": "oTNH_HTcYmir"
      },
      "source": [
        "**FUERZA BRUTA** \n",
        "\n",
        "ejemplo 1, búsqueda de patrones de texto"
      ]
    },
    {
      "cell_type": "code",
      "metadata": {
        "id": "d3p3_UvFWBB2"
      },
      "source": [
        "  def string_match_brute( A , P ):\n",
        "      for i in range(   len(A) - len(P) + 1  ):\n",
        "          for j in range( len(P)  ):\n",
        "              if P[j] == A[ i+j ]:\n",
        "                  pass\n",
        "              else: \n",
        "                  break\n",
        "          if j+1 == len(P) and A[i+j] == P[ j ]:\n",
        "              print(f\"Se encontró en la posición:{ i }\")\n",
        "\n",
        "entrada = \"\"\n",
        "patron = \"01101\"\n",
        "string_match_brute(entrada , patron)\n",
        "# O( )"
      ],
      "execution_count": null,
      "outputs": []
    },
    {
      "cell_type": "markdown",
      "metadata": {
        "id": "WgaHeHTjxUHL"
      },
      "source": [
        "#cifrado césar\n"
      ]
    },
    {
      "cell_type": "code",
      "metadata": {
        "id": "-5CBOtlvxCMo"
      },
      "source": [
        "# solamente decifrar (ENCRIOTADO ESTA MAL DICHO)\n",
        "cifrado = \"dwdfdu\"\n",
        "alfabeto = \"abcdefghijklmnopqrstuvwxyz\"\n",
        "print(len(alfabeto))\n",
        "# llave ¿posiciones de corrimiento? \n",
        "for llave in range( 1 , len(alfabeto)):\n",
        "    for i in range( len(cifrado)):\n",
        "        #print( alfabeto.index( cifrado[i]) , end =\" \")\n",
        "        index = alfabeto.index( cifrado[i] )\n",
        "        print( alfabeto[ (index + llave) % 26 ] , end=\" \" )\n",
        "    print(\"\")\n",
        "\n"
      ],
      "execution_count": null,
      "outputs": []
    },
    {
      "cell_type": "code",
      "metadata": {
        "id": "xn6Ne2KleXmZ"
      },
      "source": [
        ""
      ],
      "execution_count": null,
      "outputs": []
    },
    {
      "cell_type": "code",
      "metadata": {
        "colab": {
          "base_uri": "https://localhost:8080/"
        },
        "id": "0z59_sI3eYBj",
        "outputId": "d01fb686-46c5-4552-8dff-997a31b99bc2"
      },
      "source": [
        "# solamente decifrar (ENCRIOTADO ESTA MAL DICHO)\n",
        "cifrado = \"zg gzhv lpz vidhv v gv pidqzmndyvy ivxdjivg, kjs hd mvuv cvwgrná zg zmkimdop, \"\n",
        "alfabeto = \"abcdefghijklmnopqrstuvwxyz\"\n",
        "print(len(alfabeto))\n",
        "# llave ¿posiciones de corrimiento? \n",
        "for llave in range( 1 , len(alfabeto)):\n",
        "    for i in range( len(cifrado)):\n",
        "        if not( cifrado[i] in alfabeto ):\n",
        "            print( cifrado[i] , end=\"\")\n",
        "        else:\n",
        "            #print( alfabeto.index( cifrado[i]) , end =\" \")\n",
        "            index = alfabeto.index( cifrado[i] )\n",
        "            print( alfabeto[ (index + llave) % 26 ] , end=\" \" )\n",
        "    \n",
        "    print(\"\")\n",
        "    # O( n )\n"
      ],
      "execution_count": null,
      "outputs": [
        {
          "output_type": "stream",
          "name": "stdout",
          "text": [
            "26\n",
            "a h  h a i w  m q a  w j e i w  w  h w  q j e r a n o e z w z  j w y e k j w h , l j n  i e  n w \n",
            "b i  i b j x  n r b  x k f j x  x  i x  r k f s b o p f a x a  k x z f l k x i , m k o  j f  o x \n",
            "c j  j c k y  o s c  y l g k y  y  j y  s l g t c p q g b y b  l y a g m l y j , n l p  k g  p y \n",
            "d k  k d l z  p t d  z m h l z  z  k z  t m h u d q r h c z c  m z b h n m z k , o m q  l h  q z \n",
            "e l  l e m a  q u e  a n i m a  a  l a  u n i v e r s i d a d  n a c i o n a l , p n r  m i  r a \n",
            "f m  m f n b  r v f  b o j n b  b  m b  v o j w f s t j e b e  o b d j p o b m , q o s  n j  s b \n",
            "g n  n g o c  s w g  c p k o c  c  n c  w p k x g t u k f c f  p c e k q p c n , r p t  o k  t c \n",
            "h o  o h p d  t x h  d q l p d  d  o d  x q l y h u v l g d g  q d f l r q d o , s q u  p l  u d \n",
            "i p  p i q e  u y i  e r m q e  e  p e  y r m z i v w m h e h  r e g m s r e p , t r v  q m  v e \n",
            "j q  q j r f  v z j  f s n r f  f  q f  z s n a j w x n i f i  s f h n t s f q , u s w  r n  w f \n",
            "k r  r k s g  w a k  g t o s g  g  r g  a t o b k x y o j g j  t g i o u t g r , v t x  s o  x g \n",
            "l s  s l t h  x b l  h u p t h  h  s h  b u p c l y z p k h k  u h j p v u h s , w u y  t p  y h \n",
            "m t  t m u i  y c m  i v q u i  i  t i  c v q d m z a q l i l  v i k q w v i t , x v z  u q  z i \n",
            "n u  u n v j  z d n  j w r v j  j  u j  d w r e n a b r m j m  w j l r x w j u , y w a  v r  a j \n",
            "o v  v o w k  a e o  k x s w k  k  v k  e x s f o b c s n k n  x k m s y x k v , z x b  w s  b k \n",
            "p w  w p x l  b f p  l y t x l  l  w l  f y t g p c d t o l o  y l n t z y l w , a y c  x t  c l \n",
            "q x  x q y m  c g q  m z u y m  m  x m  g z u h q d e u p m p  z m o u a z m x , b z d  y u  d m \n",
            "r y  y r z n  d h r  n a v z n  n  y n  h a v i r e f v q n q  a n p v b a n y , c a e  z v  e n \n",
            "s z  z s a o  e i s  o b w a o  o  z o  i b w j s f g w r o r  b o q w c b o z , d b f  a w  f o \n",
            "t a  a t b p  f j t  p c x b p  p  a p  j c x k t g h x s p s  c p r x d c p a , e c g  b x  g p \n",
            "u b  b u c q  g k u  q d y c q  q  b q  k d y l u h i y t q t  d q s y e d q b , f d h  c y  h q \n",
            "v c  c v d r  h l v  r e z d r  r  c r  l e z m v i j z u r u  e r t z f e r c , g e i  d z  i r \n",
            "w d  d w e s  i m w  s f a e s  s  d s  m f a n w j k a v s v  f s u a g f s d , h f j  e a  j s \n",
            "x e  e x f t  j n x  t g b f t  t  e t  n g b o x k l b w t w  g t v b h g t e , i g k  f b  k t \n",
            "y f  f y g u  k o y  u h c g u  u  f u  o h c p y l m c x u x  h u w c i h u f , j h l  g c  l u \n"
          ]
        }
      ]
    },
    {
      "cell_type": "markdown",
      "metadata": {
        "id": "OH-jHyGnjqqB"
      },
      "source": [
        "#Mejorar el algoritmo para que discrimine los textos no claros y solamente muestre el mensaje inteligible "
      ]
    },
    {
      "cell_type": "markdown",
      "metadata": {
        "id": "VRbJbeMBj3Px"
      },
      "source": [
        "# buscar por fuerza bruta los puntos mas cercanos entre sí dentro de un plano cartesiano "
      ]
    },
    {
      "cell_type": "code",
      "metadata": {
        "colab": {
          "base_uri": "https://localhost:8080/",
          "height": 354
        },
        "id": "JFbhIXnrklif",
        "outputId": "5a530df4-a40a-4f15-a737-f138aa30cb44"
      },
      "source": [
        " from matplotlib import pyplot as plt \n",
        "import random \n",
        "import math\n",
        "pares = []\n",
        "for i in range(30):\n",
        "    pares.append( [ random.randint(1,100) , random.randint(1,100)] )\n",
        "print(pares)\n",
        "\n",
        "\n",
        "for par in pares: \n",
        "    plt.scatter( par[0],par[1] , s=3 ,c=\"k\" )\n",
        "#resultado = math.sqrt((pow(((x2-x1)),2))+(pow(((y2-y1)),2)))\n",
        "\n",
        "def distancia(p1 , p2): #pares p1=[100. 34] p2=[27, 37]\n",
        "    dis = math.sqrt((pow(((p2[0]-p1[0])),2))+(pow(((p2[1]-p1[1])),2)))\n",
        "    return dis \n",
        "\n",
        "print( distancia( [100,34] , [27,37]  ) )\n",
        "\n",
        "menor = 99999\n",
        "d = 0\n",
        "par_menor = []\n",
        "for i in range(len(pares) ):\n",
        "    for j in range( len(pares) ):\n",
        "        d = distancia(pares[i] , pares[j])\n",
        "        if d < menor and d != 0.0:\n",
        "            menor = d \n",
        "            par_menor.clear()\n",
        "            par_menor.append( pares[i] )\n",
        "            par_menor.append( pares[j] )\n",
        "print(menor)\n",
        "print( par_menor[0] , par_menor[1] )"
      ],
      "execution_count": null,
      "outputs": [
        {
          "output_type": "stream",
          "name": "stdout",
          "text": [
            "[[61, 23], [72, 61], [51, 93], [36, 77], [51, 80], [68, 33], [27, 40], [43, 38], [38, 45], [91, 95], [3, 84], [84, 30], [56, 94], [78, 39], [33, 74], [45, 45], [15, 13], [95, 94], [36, 24], [42, 34], [31, 90], [89, 60], [98, 8], [19, 98], [1, 48], [3, 35], [49, 15], [37, 42], [8, 9], [10, 56]]\n",
            "73.06161783043132\n",
            "3.1622776601683795\n",
            "[38, 45] [37, 42]\n"
          ]
        },
        {
          "output_type": "display_data",
          "data": {
            "image/png": "[encoded data removed]",
            "text/plain": [
              "<Figure size 432x288 with 1 Axes>"
            ]
          },
          "metadata": {
            "needs_background": "light"
          }
        }
      ]
    },
    {
      "cell_type": "markdown",
      "metadata": {
        "id": "yIYbSWs4g5IA"
      },
      "source": [
        "![ejercicio.jpg](data:image/jpeg;base64,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)"
      ]
    },
    {
      "cell_type": "markdown",
      "metadata": {
        "id": "x7RuFmQ6f77h"
      },
      "source": [
        "# Divide y venceras"
      ]
    },
    {
      "cell_type": "code",
      "metadata": {
        "colab": {
          "base_uri": "https://localhost:8080/"
        },
        "id": "47DEcFcWUDkn",
        "outputId": "f6fc7d69-4425-445e-d115-6cfe42fd109b"
      },
      "source": [
        "# buscar el elemento mas grande dentro de un array (lista)\n",
        "\n",
        "def maximo_recursivo( data ):\n",
        "     if len(data) == 2: \n",
        "        return data [0] if data[0]>data[1]  else data[1]\n",
        "     elif len(data) == 1:\n",
        "        return data[0]\n",
        "     else: \n",
        "        mid = len(data) // 2\n",
        "        I = maximo_recursivo( data[:mid:] )\n",
        "        D = maximo_recursivo( data[mid::] )\n",
        "        return I  if I>D   else     D\n",
        "\n",
        "info = [2,3,1,13,44,3,4,12,323,45,23,4,3,21,4,5,33,75]\n",
        "print(maximo_recursivo(info) )"
      ],
      "execution_count": 4,
      "outputs": [
        {
          "output_type": "stream",
          "name": "stdout",
          "text": [
            "323\n"
          ]
        }
      ]
    },
    {
      "cell_type": "markdown",
      "metadata": {
        "id": "UDUBvxknnuiW"
      },
      "source": [
        "# Merge sort\n"
      ]
    },
    {
      "cell_type": "code",
      "metadata": {
        "id": "38z06OrKnn2Q"
      },
      "source": [
        "def mergeSort( data ):  # M   O( n )      P O( 1 )\n",
        "  tam = len( data )     # M   O( 1 )      P O( 1 )\n",
        "  #print(f\" recibido: {data }\")\n",
        "  if tam ==1: # caso base de la recursividad  # M   O( 0 )      P O( na )\n",
        "      return data  # M   O( 0 )      P O( 1 )\n",
        "\n",
        "  mid = tam // 2  # M   O( 1 )      P O( 2 )\n",
        "  I = mergeSort( data[ 0 : mid: 1] ) # M   O( 0 )      P O( (Log n) / 2 )\n",
        "  D = mergeSort( data[ mid:   : 1] )\n",
        "  #print(f\"{I}\\t\\t {D}\")\n",
        "  return merge( I , D )\n",
        "  # M   O(  )      P O(  )\n",
        "def merge( I , D ):\n",
        "    resultado = [0] * (len(I) + len(D))\n",
        "    i = 0\n",
        "    d = 0\n",
        "    r = 0\n",
        "    while i < len( I ) and d < len( D ):\n",
        "      if I[i] < D[d]:\n",
        "          resultado[r] = I[i]\n",
        "          i += 1\n",
        "      else:\n",
        "          resultado[r] = D[d]\n",
        "          d += 1\n",
        "      r += 1\n",
        "      #Procesar los faltantes ya sea a la der o a la izq\n",
        "      while i < len( I ):\n",
        "        resultado[r] = I[i]\n",
        "        i += 1\n",
        "        r += 1\n",
        "      \n",
        "      while d < len( D ):\n",
        "        resultado[r] = D[d]\n",
        "        d += 1\n",
        "        r += 1\n",
        "      return resultado \n",
        "      \n",
        "\n",
        "\n",
        "\n"
      ],
      "execution_count": null,
      "outputs": []
    },
    {
      "cell_type": "markdown",
      "metadata": {
        "id": "5IVmvjmmoJcY"
      },
      "source": [
        "# Busqueda binaria\n"
      ]
    },
    {
      "cell_type": "code",
      "metadata": {
        "id": "vTO-GX8UoAYI"
      },
      "source": [
        "def busqueda_binaria_rec(valor_a_buscar, datos, ini, fin):\n",
        "  print(f\"Iteracion\", datos)\n",
        "  mid = ini +((fin-ini)//2)\n",
        "  if ini >= fin:\n",
        "    return -1\n",
        "  if datos[mid] == valor_a_buscar:\n",
        "    return mid\n",
        "  elif datos[mid] < valor_a_buscar:\n",
        "    return busqueda_binaria_rec(valor_a_buscar, datos, mid+1, fin )\n",
        "  else:\n",
        "    return busqueda_binaria_rec(valor_a_buscar, datos, ini, mid)\n",
        "\n",
        "lista = [2,10,5,22,8,3,55,4,23,11,14,6,7,9,12,13,15,16,17]\n",
        "dato = 55\n",
        "lista.sort()\n",
        "indice = busqueda_binaria_rec(dato, lista, 0, len(lista))\n",
        "print(indice)"
      ],
      "execution_count": null,
      "outputs": []
    }
  ]
}