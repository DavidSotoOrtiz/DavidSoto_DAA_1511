{
  "nbformat": 4,
  "nbformat_minor": 0,
  "metadata": {
    "colab": {
      "name": "EDD_BigO_1511.ipynb",
      "provenance": [],
      "authorship_tag": "ABX9TyPlYy4pXbBJFI4HcdmzA3Sa",
      "include_colab_link": true
    },
    "kernelspec": {
      "name": "python3",
      "display_name": "Python 3"
    },
    "language_info": {
      "name": "python"
    }
  },
  "cells": [
    {
      "cell_type": "markdown",
      "metadata": {
        "id": "view-in-github",
        "colab_type": "text"
      },
      "source": [
        "<a href=\"https://colab.research.google.com/github/TheSnazzyMan/DavidSoto_DAA_1511/blob/master/EDD_BigO_1511.ipynb\" target=\"_parent\"><img src=\"https://colab.research.google.com/assets/colab-badge.svg\" alt=\"Open In Colab\"/></a>"
      ]
    },
    {
      "cell_type": "code",
      "metadata": {
        "id": "53fDkPSsKzjf"
      },
      "source": [
        ""
      ],
      "execution_count": null,
      "outputs": []
    },
    {
      "cell_type": "markdown",
      "metadata": {
        "id": "ZmtD6LCPK0rd"
      },
      "source": [
        "#Árboles binarios \n",
        "\n",
        "árbol binario de búsqueda"
      ]
    },
    {
      "cell_type": "code",
      "metadata": {
        "id": "4Y5EHZpSK9OF"
      },
      "source": [
        "  class NodoArbol:\n",
        "    def __init__( self, value, left= None , rigth=None ):\n",
        "          self.data = value\n",
        "          self.left = left\n",
        "          self.rigth = rigth\n",
        "\n",
        "  class ArbolBB:\n",
        "    def __init__( self ):\n",
        "       pass \n",
        "       #pausa y vamos a comprender el uso de NodoArbol   \n",
        "\n"
      ],
      "execution_count": 17,
      "outputs": []
    },
    {
      "cell_type": "code",
      "metadata": {
        "colab": {
          "base_uri": "https://localhost:8080/"
        },
        "id": "9bvJ63JgMUn-",
        "outputId": "69cfa38a-69c4-4040-ba28-7a33bb98c887"
      },
      "source": [
        "  raiz = NodoArbol(60 , None , None )\n",
        "  raiz.left = NodoArbol( 40 , None , None )\n",
        "  print(raiz.left.data)\n",
        "\n",
        "  # lo mismo pero como programador ninja\n",
        "  raiz = NodoArbol(60,NodoArbol(40),None)\n",
        "  print(raiz.left.data)\n",
        "\n",
        "\n",
        "  raiz = NodoArbol( 60, NodoArbol(40 , NodoArbol(30))  ,   NodoArbol(70)   )\n",
        "  print( raiz.left.left.data )"
      ],
      "execution_count": 19,
      "outputs": [
        {
          "output_type": "stream",
          "name": "stdout",
          "text": [
            "40\n",
            "40\n",
            "30\n"
          ]
        }
      ]
    }
  ]
}