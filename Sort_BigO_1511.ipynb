{
  "nbformat": 4,
  "nbformat_minor": 0,
  "metadata": {
    "colab": {
      "name": "Sort_BigO_1511.ipynb",
      "provenance": [],
      "authorship_tag": "ABX9TyPzgwcdfifQtBO+FL5b0uLD",
      "include_colab_link": true
    },
    "kernelspec": {
      "name": "python3",
      "display_name": "Python 3"
    },
    "language_info": {
      "name": "python"
    }
  },
  "cells": [
    {
      "cell_type": "markdown",
      "metadata": {
        "id": "view-in-github",
        "colab_type": "text"
      },
      "source": [
        "<a href=\"https://colab.research.google.com/github/TheSnazzyMan/DavidSoto_DAA_1511/blob/master/Sort_BigO_1511.ipynb\" target=\"_parent\"><img src=\"https://colab.research.google.com/assets/colab-badge.svg\" alt=\"Open In Colab\"/></a>"
      ]
    },
    {
      "cell_type": "markdown",
      "metadata": {
        "id": "ogvLlovZtiIZ"
      },
      "source": [
        "#Merge sort"
      ]
    },
    {
      "cell_type": "code",
      "metadata": {
        "id": "zkGW3zmVtnaZ"
      },
      "source": [
        "def mergeSort( data ):  # M   O( n )      P O( 1 )\n",
        "  tam = len( data )     # M   O( 1 )      P O( 1 )\n",
        "  #print(f\" recibido: {data }\")\n",
        "  if tam ==1: # caso base de la recursividad  # M   O( 0 )      P O( na )\n",
        "      return data  # M   O( 0 )      P O( 1 )\n",
        "\n",
        "  mid = tam // 2  # M   O( 1 )      P O( 2 )\n",
        "  I = mergeSort( data[ 0 : mid: 1] ) # M   O( 0 )      P O( (Log n) / 2 )\n",
        "  D = mergeSort( data[ mid:   : 1] )\n",
        "  #print(f\"{I}\\t\\t {D}\")\n",
        "  return merge( I , D )\n",
        "  # M   O(  )      P O(  )\n",
        "def merge( I , D ):\n",
        "    resultado = [0] * (len(I) + len(D))\n",
        "    i = 0\n",
        "    d = 0\n",
        "    r = 0\n",
        "    while i < len( I ) and d < len( D ):\n",
        "      if I[i] < D[d]:\n",
        "          resultado[r] = I[i]\n",
        "          i += 1\n",
        "      else:\n",
        "          resultado[r] = D[d]\n",
        "          d += 1\n",
        "      r += 1\n",
        "      #Procesar los faltantes ya sea a la der o a la izq\n",
        "      while i < len( I ):\n",
        "        resultado[r] = I[i]\n",
        "        i += 1\n",
        "        r += 1\n",
        "      \n",
        "      while d < len( D ):\n",
        "        resultado[r] = D[d]\n",
        "        d += 1\n",
        "        r += 1\n",
        "      return resultado \n",
        "      # \n",
        "\n",
        "\n",
        "\n"
      ],
      "execution_count": null,
      "outputs": []
    },
    {
      "cell_type": "code",
      "metadata": {
        "colab": {
          "base_uri": "https://localhost:8080/"
        },
        "id": "ESIkIW_2zH_8",
        "outputId": "7e313619-61c3-46a3-84a4-367f97d6a648"
      },
      "source": [
        "numeros = [22,13,109,33,21,564678998755756464335,676876867568765687648876,85767543548]\n",
        "print(mergeSort(numeros))\n",
        "\n",
        "numero = [8,4,10,3,20,18,12,15]\n",
        "print(mergeSort(numeros))"
      ],
      "execution_count": null,
      "outputs": [
        {
          "output_type": "stream",
          "name": "stdout",
          "text": [
            "[13, 22, 33, 109, 21, 564678998755756464335, 85767543548, 676876867568765687648876]\n",
            "[13, 22, 33, 109, 21, 564678998755756464335, 85767543548, 676876867568765687648876]\n"
          ]
        }
      ]
    },
    {
      "cell_type": "code",
      "metadata": {
        "colab": {
          "base_uri": "https://localhost:8080/"
        },
        "id": "mxTl_P-3wXbD",
        "outputId": "0c4822a3-ad55-4768-92bb-d5a9a5e017d1"
      },
      "source": [
        "  frutas = ['peras','manzanas','kiwi','limon','aguacate','uva,''sandia']\n",
        "  print(frutas)\n",
        "  #Slicing sirve para sacar rebanadas de un iterable \n",
        "  #frutas[<>ini :<stop> :<> ]\n",
        "  #NOTA: el stop no se incluye, se incluye el valor previo \n",
        "\n",
        "  print( frutas[ 0: 3 : 1] )\n",
        "  print( frutas[2 : 6 : 1] )\n",
        "  print( len(frutas ))\n",
        "  mid = len(frutas) // 2\n",
        "  print( mid )\n",
        "  print( frutas[ 0 : mid : 1] )\n",
        "  print( frutas[mid : : 1] )"
      ],
      "execution_count": null,
      "outputs": [
        {
          "output_type": "stream",
          "name": "stdout",
          "text": [
            "['peras', 'manzanas', 'kiwi', 'limon', 'aguacate', 'uva,sandia']\n",
            "['peras', 'manzanas', 'kiwi']\n",
            "['kiwi', 'limon', 'aguacate', 'uva,sandia']\n",
            "6\n",
            "3\n",
            "['peras', 'manzanas', 'kiwi']\n",
            "['limon', 'aguacate', 'uva,sandia']\n"
          ]
        }
      ]
    },
    {
      "cell_type": "code",
      "metadata": {
        "id": "ce1dkFlw2R_7"
      },
      "source": [
        "  I = [ 2 , 8 ]\n",
        "  D = [3 , 22 ]\n",
        "  resultado = [0] * (len(I) * len(D))\n",
        "  print(resultado)"
      ],
      "execution_count": null,
      "outputs": []
    },
    {
      "cell_type": "markdown",
      "metadata": {
        "id": "j_L3ej8HTt05"
      },
      "source": [
        "# Algoritmo de busqueda\n",
        "\n",
        "###busqueda lineal\n",
        "\n",
        "-secuencial \n",
        "\n",
        "búsqueda binaria "
      ]
    },
    {
      "cell_type": "code",
      "metadata": {
        "colab": {
          "base_uri": "https://localhost:8080/",
          "height": 228
        },
        "id": "1aKp9Ha9T9kB",
        "outputId": "793c48c9-eb6b-42df-a384-857f4e23bc1f"
      },
      "source": [
        "\n",
        "\n",
        "def busqueda_lineal1( valor_a_buscar , datos ): # M O ( 1 + n)   P   O (1)\n",
        "    idx = 1 # M(1)       P     O(1)\n",
        "    for index in range( len(datos) ):\n",
        "        print(f\"Comparación # { index + 1 }\")\n",
        "        if datos( index ) == valor_a_buscar: # M O (0)           P   O( n ) \n",
        "          idx = index \n",
        "          break\n",
        "    return idx #M O (0)     P    O(1)\n",
        "# M O(n)      P   O(n)\n",
        "datos = [2,10,5,2,8,3,55,4,23,11,14]\n",
        "\n",
        "indice = busqueda_lineal( dato , datos)\n",
        "\n",
        "if indice != -1 :\n",
        "    print(f\"La posicion de { dato } es {indice}\")\n",
        "else: \n",
        "  print(\"El valor no esta en la lista\")\n"
      ],
      "execution_count": 3,
      "outputs": [
        {
          "output_type": "error",
          "ename": "NameError",
          "evalue": "ignored",
          "traceback": [
            "\u001b[0;31m---------------------------------------------------------------------------\u001b[0m",
            "\u001b[0;31mNameError\u001b[0m                                 Traceback (most recent call last)",
            "\u001b[0;32m<ipython-input-3-647163ceae15>\u001b[0m in \u001b[0;36m<module>\u001b[0;34m()\u001b[0m\n\u001b[1;32m     12\u001b[0m \u001b[0mdatos\u001b[0m \u001b[0;34m=\u001b[0m \u001b[0;34m[\u001b[0m\u001b[0;36m2\u001b[0m\u001b[0;34m,\u001b[0m\u001b[0;36m10\u001b[0m\u001b[0;34m,\u001b[0m\u001b[0;36m5\u001b[0m\u001b[0;34m,\u001b[0m\u001b[0;36m2\u001b[0m\u001b[0;34m,\u001b[0m\u001b[0;36m8\u001b[0m\u001b[0;34m,\u001b[0m\u001b[0;36m3\u001b[0m\u001b[0;34m,\u001b[0m\u001b[0;36m55\u001b[0m\u001b[0;34m,\u001b[0m\u001b[0;36m4\u001b[0m\u001b[0;34m,\u001b[0m\u001b[0;36m23\u001b[0m\u001b[0;34m,\u001b[0m\u001b[0;36m11\u001b[0m\u001b[0;34m,\u001b[0m\u001b[0;36m14\u001b[0m\u001b[0;34m]\u001b[0m\u001b[0;34m\u001b[0m\u001b[0;34m\u001b[0m\u001b[0m\n\u001b[1;32m     13\u001b[0m \u001b[0;34m\u001b[0m\u001b[0m\n\u001b[0;32m---> 14\u001b[0;31m \u001b[0mindice\u001b[0m \u001b[0;34m=\u001b[0m \u001b[0mbusqueda_lineal\u001b[0m\u001b[0;34m(\u001b[0m \u001b[0mdato\u001b[0m \u001b[0;34m,\u001b[0m \u001b[0mdatos\u001b[0m\u001b[0;34m)\u001b[0m\u001b[0;34m\u001b[0m\u001b[0;34m\u001b[0m\u001b[0m\n\u001b[0m\u001b[1;32m     15\u001b[0m \u001b[0;34m\u001b[0m\u001b[0m\n\u001b[1;32m     16\u001b[0m \u001b[0;32mif\u001b[0m \u001b[0mindice\u001b[0m \u001b[0;34m!=\u001b[0m \u001b[0;34m-\u001b[0m\u001b[0;36m1\u001b[0m \u001b[0;34m:\u001b[0m\u001b[0;34m\u001b[0m\u001b[0;34m\u001b[0m\u001b[0m\n",
            "\u001b[0;31mNameError\u001b[0m: name 'busqueda_lineal' is not defined"
          ]
        }
      ]
    },
    {
      "cell_type": "markdown",
      "metadata": {
        "id": "yuDuwIJ2YkML"
      },
      "source": [
        "        camparacion #1\n",
        "        La posicion de 2 es 0 "
      ]
    },
    {
      "cell_type": "code",
      "metadata": {
        "colab": {
          "base_uri": "https://localhost:8080/",
          "height": 128
        },
        "id": "Y1mQZtETYq2w",
        "outputId": "584485ae-d5a9-4010-a53b-54931594d159"
      },
      "source": [
        "def busqueda_binaria_rec( valor_a_buscar , datos , ini , fin):\n",
        "    mid = ini + ((fin - ini) // 2)\n",
        "    if datos[mid] == value:\n",
        "        return mid\n",
        "    elif valor_a_buscar < datos[mid]:\n",
        "        fin = mid + 1 \n",
        "        ini = 0 \n",
        "        return busqueda_binaria_rec(valor_a_buscar, datos[:fin:] ,ini , fin)\n",
        "    else: \n",
        "        ini = mid \n",
        "        fin = len(datos) - 1\n",
        "        return busqueda_binaria_rec(valor_a_buscar, datos[ini::], ini, fin)\n",
        "\n",
        "  datos = [2,10,5,2,8,3,55,4,23,11,14]\n",
        "\n",
        "  dato = 2 \n",
        "  indice = busqueda_binaria_rec(dato, datos.sort(), 0 , len(datos) -1)\n",
        "  print(indice)\n"
      ],
      "execution_count": 2,
      "outputs": [
        {
          "output_type": "error",
          "ename": "IndentationError",
          "evalue": "ignored",
          "traceback": [
            "\u001b[0;36m  File \u001b[0;32m\"<ipython-input-2-a382e18369e1>\"\u001b[0;36m, line \u001b[0;32m14\u001b[0m\n\u001b[0;31m    datos = [2,10,5,2,8,3,55,4,23,11,14]\u001b[0m\n\u001b[0m                                        ^\u001b[0m\n\u001b[0;31mIndentationError\u001b[0m\u001b[0;31m:\u001b[0m unindent does not match any outer indentation level\n"
          ]
        }
      ]
    }
  ]
}