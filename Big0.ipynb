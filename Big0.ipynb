{
  "nbformat": 4,
  "nbformat_minor": 0,
  "metadata": {
    "colab": {
      "name": "Big0.ipynb",
      "provenance": [],
      "collapsed_sections": []
    },
    "kernelspec": {
      "name": "python3",
      "display_name": "Python 3"
    },
    "language_info": {
      "name": "python"
    }
  },
  "cells": [
    {
      "cell_type": "markdown",
      "metadata": {
        "id": "pbYiCruA9MCh"
      },
      "source": [
        ""
      ]
    },
    {
      "cell_type": "code",
      "metadata": {
        "id": "4Soxs2s9HHIT"
      },
      "source": [
        "def suma(num):\n",
        "    suma = 0\n",
        "    for i in range(num +1):\n",
        "        suma +=\n",
        "    print(suma)"
      ],
      "execution_count": null,
      "outputs": []
    },
    {
      "cell_type": "code",
      "metadata": {
        "id": "XD7K3CKGIWJO"
      },
      "source": [
        "import time\n",
        "time.time()\n",
        "marca1 = time.time()\n",
        "\n",
        "n = 3\n",
        "suma(n)\n",
        "marca2 = time.time()\n",
        "print( marca2 = marca1)"
      ],
      "execution_count": null,
      "outputs": []
    },
    {
      "cell_type": "code",
      "metadata": {
        "id": "1CTJ3NXYz6G9"
      },
      "source": [
        "def busqueda_lineal (lista , val_a_buscar ):\n",
        "    contador = 0 # O( 1 )\n",
        "    for x in range(len(lista) ):\n",
        "      contador += 1 # O( n )\n",
        "      if lista [ x ] == val_a_buscar :\n",
        "          print(f\"Encontrado en la posicion { x }\") # O( 1 )\n",
        "          break\n",
        "      return contador\n",
        "# O( 1 + n + 1 ) --> O( 2 + n)\n",
        "\n",
        "numeros = [2,3,1,23,8,24,25,10,100,35,8]\n",
        "comparaciones = busqueda_lineal( numeros, 8 )\n",
        "print(f\"{comparaciones}compraciones \")"
      ],
      "execution_count": null,
      "outputs": []
    },
    {
      "cell_type": "code",
      "metadata": {
        "id": "N946X-6e6fQF"
      },
      "source": [
        "numeros = [1,2,3]\n",
        "\n",
        "def unaFuncionCualquiera( lista ):\n",
        "  conteo = 0 #O(1)\n",
        "  for mumero1 in lista:\n",
        "      for numero2 in lista:\n",
        "          print(numero1, numero2) # O(n^2)\n",
        "          conteo += 1 #O(n^2)\n",
        "      return conteo\n",
        "  #O(1 + 2n^2)\n",
        "  # O(n^2)\n",
        "\n",
        "conteo = unaFuncionCualquiera(numeros)\n",
        "\n",
        "print( \"Final:\" , conteo)"
      ],
      "execution_count": null,
      "outputs": []
    },
    {
      "cell_type": "code",
      "metadata": {
        "id": "ivOZFothJNJh"
      },
      "source": [
        ""
      ],
      "execution_count": null,
      "outputs": []
    },
    {
      "cell_type": "markdown",
      "metadata": {
        "id": "_1rRq5kf7bKZ"
      },
      "source": [
        "Ejercicio 3.1"
      ]
    },
    {
      "cell_type": "code",
      "metadata": {
        "id": "QBMmibK37epS"
      },
      "source": [
        "numeros = [1,2,3]\n",
        "\n",
        "def unaFuncionCualquiera( lista ):\n",
        "    conteo = 0 #O(1)\n",
        "    suma = 0 #O(1)\n",
        "    for num in lista: \n",
        "        suma += num # O( n )\n",
        "    print(f\"La sumatoria de los numeros en la lista es={ suma }\") #O(1)\n",
        "\n",
        "    for numero1 in lista:\n",
        "        for numero2 in lista: \n",
        "            print(numero1 , numero2) #O(n^2) --> O( n * n)\n",
        "            conteo += 1 #O(n^2)\n",
        "    return conteo \n",
        "  #O( 3 + n + 2n^2)\n",
        "  #O( n^2 )"
      ],
      "execution_count": null,
      "outputs": []
    },
    {
      "cell_type": "markdown",
      "metadata": {
        "id": "L9b6TnFk8fXO"
      },
      "source": [
        "Ejercicio 3.2"
      ]
    },
    {
      "cell_type": "code",
      "metadata": {
        "id": "y6ya06lb8iEq"
      },
      "source": [
        ""
      ],
      "execution_count": null,
      "outputs": []
    }
  ]
}