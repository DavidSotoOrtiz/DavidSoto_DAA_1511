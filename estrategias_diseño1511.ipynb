{
  "nbformat": 4,
  "nbformat_minor": 0,
  "metadata": {
    "colab": {
      "name": "estrategias_diseño1511.ipynb",
      "provenance": [],
      "authorship_tag": "ABX9TyN0+PbMmET1JO96oCH5ZaOh",
      "include_colab_link": true
    },
    "kernelspec": {
      "name": "python3",
      "display_name": "Python 3"
    },
    "language_info": {
      "name": "python"
    }
  },
  "cells": [
    {
      "cell_type": "markdown",
      "metadata": {
        "id": "view-in-github",
        "colab_type": "text"
      },
      "source": [
        "<a href=\"https://colab.research.google.com/github/TheSnazzyMan/DavidSoto_DAA_1511/blob/master/estrategias_dise%C3%B1o1511.ipynb\" target=\"_parent\"><img src=\"https://colab.research.google.com/assets/colab-badge.svg\" alt=\"Open In Colab\"/></a>"
      ]
    },
    {
      "cell_type": "markdown",
      "metadata": {
        "id": "oTNH_HTcYmir"
      },
      "source": [
        "**FUERZA BRUTA** \n",
        "\n",
        "ejemplo 1, búsqueda de patrones de texto"
      ]
    },
    {
      "cell_type": "code",
      "metadata": {
        "id": "d3p3_UvFWBB2"
      },
      "source": [
        "  def string_match_brute( A , P ):\n",
        "      for i in range(   len(A) - len(P) + 1  ):\n",
        "          for j in range( len(P)  ):\n",
        "              if P[j] == A[ i+j ]:\n",
        "                  pass\n",
        "              else: \n",
        "                  break\n",
        "          if j+1 == len(P) and A[i+j] == P[ j ]:\n",
        "              print(f\"Se encontró en la posición:{ i }\")\n",
        "\n",
        "entrada = \"\"\n",
        "patron = \"01101\"\n",
        "string_match_brute(entrada , patron)\n",
        "# O( )"
      ],
      "execution_count": null,
      "outputs": []
    },
    {
      "cell_type": "markdown",
      "metadata": {
        "id": "WgaHeHTjxUHL"
      },
      "source": [
        "#cifrado césar\n"
      ]
    },
    {
      "cell_type": "code",
      "metadata": {
        "id": "-5CBOtlvxCMo"
      },
      "source": [
        "# solamente decifrar (ENCRIOTADO ESTA MAL DICHO)\n",
        "cifrado = \"dwdfdu\"\n",
        "alfabeto = \"abcdefghijklmnopqrstuvwxyz\"\n",
        "print(len(alfabeto))\n",
        "# llave ¿posiciones de corrimiento? \n",
        "for llave in range( 1 , len(alfabeto)):\n",
        "    for i in range( len(cifrado)):\n",
        "        #print( alfabeto.index( cifrado[i]) , end =\" \")\n",
        "        index = alfabeto.index( cifrado[i] )\n",
        "        print( alfabeto[ (index + llave) % 26 ] , end=\" \" )\n",
        "    print(\"\")\n",
        "\n"
      ],
      "execution_count": null,
      "outputs": []
    },
    {
      "cell_type": "code",
      "metadata": {
        "id": "xn6Ne2KleXmZ"
      },
      "source": [
        ""
      ],
      "execution_count": null,
      "outputs": []
    },
    {
      "cell_type": "code",
      "metadata": {
        "colab": {
          "base_uri": "https://localhost:8080/"
        },
        "id": "0z59_sI3eYBj",
        "outputId": "d01fb686-46c5-4552-8dff-997a31b99bc2"
      },
      "source": [
        "# solamente decifrar (ENCRIOTADO ESTA MAL DICHO)\n",
        "cifrado = \"zg gzhv lpz vidhv v gv pidqzmndyvy ivxdjivg, kjs hd mvuv cvwgrná zg zmkimdop, \"\n",
        "alfabeto = \"abcdefghijklmnopqrstuvwxyz\"\n",
        "print(len(alfabeto))\n",
        "# llave ¿posiciones de corrimiento? \n",
        "for llave in range( 1 , len(alfabeto)):\n",
        "    for i in range( len(cifrado)):\n",
        "        if not( cifrado[i] in alfabeto ):\n",
        "            print( cifrado[i] , end=\"\")\n",
        "        else:\n",
        "            #print( alfabeto.index( cifrado[i]) , end =\" \")\n",
        "            index = alfabeto.index( cifrado[i] )\n",
        "            print( alfabeto[ (index + llave) % 26 ] , end=\" \" )\n",
        "    \n",
        "    print(\"\")\n",
        "    # O( n )\n"
      ],
      "execution_count": 12,
      "outputs": [
        {
          "output_type": "stream",
          "name": "stdout",
          "text": [
            "26\n",
            "a h  h a i w  m q a  w j e i w  w  h w  q j e r a n o e z w z  j w y e k j w h , l j n  i e  n w \n",
            "b i  i b j x  n r b  x k f j x  x  i x  r k f s b o p f a x a  k x z f l k x i , m k o  j f  o x \n",
            "c j  j c k y  o s c  y l g k y  y  j y  s l g t c p q g b y b  l y a g m l y j , n l p  k g  p y \n",
            "d k  k d l z  p t d  z m h l z  z  k z  t m h u d q r h c z c  m z b h n m z k , o m q  l h  q z \n",
            "e l  l e m a  q u e  a n i m a  a  l a  u n i v e r s i d a d  n a c i o n a l , p n r  m i  r a \n",
            "f m  m f n b  r v f  b o j n b  b  m b  v o j w f s t j e b e  o b d j p o b m , q o s  n j  s b \n",
            "g n  n g o c  s w g  c p k o c  c  n c  w p k x g t u k f c f  p c e k q p c n , r p t  o k  t c \n",
            "h o  o h p d  t x h  d q l p d  d  o d  x q l y h u v l g d g  q d f l r q d o , s q u  p l  u d \n",
            "i p  p i q e  u y i  e r m q e  e  p e  y r m z i v w m h e h  r e g m s r e p , t r v  q m  v e \n",
            "j q  q j r f  v z j  f s n r f  f  q f  z s n a j w x n i f i  s f h n t s f q , u s w  r n  w f \n",
            "k r  r k s g  w a k  g t o s g  g  r g  a t o b k x y o j g j  t g i o u t g r , v t x  s o  x g \n",
            "l s  s l t h  x b l  h u p t h  h  s h  b u p c l y z p k h k  u h j p v u h s , w u y  t p  y h \n",
            "m t  t m u i  y c m  i v q u i  i  t i  c v q d m z a q l i l  v i k q w v i t , x v z  u q  z i \n",
            "n u  u n v j  z d n  j w r v j  j  u j  d w r e n a b r m j m  w j l r x w j u , y w a  v r  a j \n",
            "o v  v o w k  a e o  k x s w k  k  v k  e x s f o b c s n k n  x k m s y x k v , z x b  w s  b k \n",
            "p w  w p x l  b f p  l y t x l  l  w l  f y t g p c d t o l o  y l n t z y l w , a y c  x t  c l \n",
            "q x  x q y m  c g q  m z u y m  m  x m  g z u h q d e u p m p  z m o u a z m x , b z d  y u  d m \n",
            "r y  y r z n  d h r  n a v z n  n  y n  h a v i r e f v q n q  a n p v b a n y , c a e  z v  e n \n",
            "s z  z s a o  e i s  o b w a o  o  z o  i b w j s f g w r o r  b o q w c b o z , d b f  a w  f o \n",
            "t a  a t b p  f j t  p c x b p  p  a p  j c x k t g h x s p s  c p r x d c p a , e c g  b x  g p \n",
            "u b  b u c q  g k u  q d y c q  q  b q  k d y l u h i y t q t  d q s y e d q b , f d h  c y  h q \n",
            "v c  c v d r  h l v  r e z d r  r  c r  l e z m v i j z u r u  e r t z f e r c , g e i  d z  i r \n",
            "w d  d w e s  i m w  s f a e s  s  d s  m f a n w j k a v s v  f s u a g f s d , h f j  e a  j s \n",
            "x e  e x f t  j n x  t g b f t  t  e t  n g b o x k l b w t w  g t v b h g t e , i g k  f b  k t \n",
            "y f  f y g u  k o y  u h c g u  u  f u  o h c p y l m c x u x  h u w c i h u f , j h l  g c  l u \n"
          ]
        }
      ]
    },
    {
      "cell_type": "markdown",
      "metadata": {
        "id": "OH-jHyGnjqqB"
      },
      "source": [
        "#Mejorar el algoritmo para que discrimine los textos no claros y solamente muestre el mensaje inteligible "
      ]
    },
    {
      "cell_type": "markdown",
      "metadata": {
        "id": "VRbJbeMBj3Px"
      },
      "source": [
        "# buscar por fuerza bruta los puntos mas cercanos entre sí dentro de un plano cartesiano "
      ]
    },
    {
      "cell_type": "code",
      "metadata": {
        "colab": {
          "base_uri": "https://localhost:8080/",
          "height": 301
        },
        "id": "JFbhIXnrklif",
        "outputId": "38e0ead9-f38f-4b52-f564-9bb75644f57d"
      },
      "source": [
        " from matplotlib import pyplot as plt \n",
        "import random \n",
        "\n",
        "pares = []\n",
        "for i in range(5):\n",
        "    pares.append( [ random.randint(1,100) , random.randint(1,100)] )\n",
        "print(pares)\n",
        "\n",
        "for par in pares: \n",
        "    plt.plot( par[0],par[1] , \"bo\" )\n",
        "plt.plot(50,50 , \"bo\")"
      ],
      "execution_count": 20,
      "outputs": [
        {
          "output_type": "stream",
          "name": "stdout",
          "text": [
            "[[25, 35], [66, 51], [9, 92], [34, 68], [34, 4]]\n"
          ]
        },
        {
          "output_type": "execute_result",
          "data": {
            "text/plain": [
              "[<matplotlib.lines.Line2D at 0x7f4aa8146d50>]"
            ]
          },
          "metadata": {},
          "execution_count": 20
        },
        {
          "output_type": "display_data",
          "data": {
            "image/png": "[encoded data removed]",
            "text/plain": [
              "<Figure size 432x288 with 1 Axes>"
            ]
          },
          "metadata": {
            "needs_background": "light"
          }
        }
      ]
    },
    {
      "cell_type": "code",
      "metadata": {
        "colab": {
          "base_uri": "https://localhost:8080/"
        },
        "id": "47DEcFcWUDkn",
        "outputId": "1a3281d0-f0e0-4f0a-b729-bbf504d93dbe"
      },
      "source": [
        "nombre = \"Unam\"\n",
        "print(nombre.index(\"a\"))"
      ],
      "execution_count": null,
      "outputs": [
        {
          "output_type": "stream",
          "name": "stdout",
          "text": [
            "2\n"
          ]
        }
      ]
    }
  ]
}