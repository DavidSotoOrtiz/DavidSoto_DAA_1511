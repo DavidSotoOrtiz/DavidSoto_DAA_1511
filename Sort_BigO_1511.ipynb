{
  "nbformat": 4,
  "nbformat_minor": 0,
  "metadata": {
    "colab": {
      "name": "Sort_BigO_1511.ipynb",
      "provenance": [],
      "authorship_tag": "ABX9TyOtB1PcubxcdGSBZvdNE6i1",
      "include_colab_link": true
    },
    "kernelspec": {
      "name": "python3",
      "display_name": "Python 3"
    },
    "language_info": {
      "name": "python"
    }
  },
  "cells": [
    {
      "cell_type": "markdown",
      "metadata": {
        "id": "view-in-github",
        "colab_type": "text"
      },
      "source": [
        "<a href=\"https://colab.research.google.com/github/TheSnazzyMan/DavidSoto_DAA_1511/blob/master/Sort_BigO_1511.ipynb\" target=\"_parent\"><img src=\"https://colab.research.google.com/assets/colab-badge.svg\" alt=\"Open In Colab\"/></a>"
      ]
    },
    {
      "cell_type": "markdown",
      "metadata": {
        "id": "ogvLlovZtiIZ"
      },
      "source": [
        "#Merge sort"
      ]
    },
    {
      "cell_type": "code",
      "metadata": {
        "id": "zkGW3zmVtnaZ"
      },
      "source": [
        "def mergeSort( data ):\n",
        "  tam = len( data )\n",
        "  #print(f\" recibido: {data }\")\n",
        "  if tam ==1: # caso base de la recursividad\n",
        "      return data\n",
        "\n",
        "  mid = tam // 2\n",
        "  I = mergeSort( data[ 0 : mid: 1] )\n",
        "  D = mergeSort( data[ mid:   : 1] )\n",
        "  #print(f\"{I}\\t\\t {D}\")\n",
        "  return mergeSort( I , D )\n",
        "\n",
        "  def merge( I , D ):\n",
        "    resultado = [] * (len(I) + len(D))\n",
        "    i = 0\n",
        "    d = 0\n",
        "    r = 0\n",
        "    while i < len( I ) and d < len( D ):\n",
        "\n",
        "\n",
        "\n",
        "\n",
        "\n",
        "\n",
        "  #procesar los faltantes ya sea a la der o a la izq\n"
      ],
      "execution_count": 7,
      "outputs": []
    },
    {
      "cell_type": "code",
      "metadata": {
        "colab": {
          "base_uri": "https://localhost:8080/"
        },
        "id": "ESIkIW_2zH_8",
        "outputId": "5847ea68-003a-41a0-ead7-f982afcfc50f"
      },
      "source": [
        "numeros = [10,51,2,18,4,31,12,5]\n",
        "mergeSort(numeros)"
      ],
      "execution_count": 8,
      "outputs": [
        {
          "output_type": "stream",
          "name": "stdout",
          "text": [
            " recibido: [10, 51, 2, 18, 4, 31, 12, 5]\n",
            " recibido: [10, 51, 2, 18]\n",
            " recibido: [10, 51]\n",
            " recibido: [10]\n",
            " recibido: [51]\n",
            " recibido: [2, 18]\n",
            " recibido: [2]\n",
            " recibido: [18]\n",
            " recibido: [4, 31, 12, 5]\n",
            " recibido: [4, 31]\n",
            " recibido: [4]\n",
            " recibido: [31]\n",
            " recibido: [12, 5]\n",
            " recibido: [12]\n",
            " recibido: [5]\n"
          ]
        }
      ]
    },
    {
      "cell_type": "code",
      "metadata": {
        "colab": {
          "base_uri": "https://localhost:8080/"
        },
        "id": "mxTl_P-3wXbD",
        "outputId": "0c4822a3-ad55-4768-92bb-d5a9a5e017d1"
      },
      "source": [
        "  frutas = ['peras','manzanas','kiwi','limon','aguacate','uva,''sandia']\n",
        "  print(frutas)\n",
        "  #Slicing sirve para sacar rebanadas de un iterable \n",
        "  #frutas[<>ini :<stop> :<> ]\n",
        "  #NOTA: el stop no se incluye, se incluye el valor previo \n",
        "\n",
        "  print( frutas[ 0: 3 : 1] )\n",
        "  print( frutas[2 : 6 : 1] )\n",
        "  print( len(frutas ))\n",
        "  mid = len(frutas) // 2\n",
        "  print( mid )\n",
        "  print( frutas[ 0 : mid : 1] )\n",
        "  print( frutas[mid : : 1] )"
      ],
      "execution_count": 13,
      "outputs": [
        {
          "output_type": "stream",
          "name": "stdout",
          "text": [
            "['peras', 'manzanas', 'kiwi', 'limon', 'aguacate', 'uva,sandia']\n",
            "['peras', 'manzanas', 'kiwi']\n",
            "['kiwi', 'limon', 'aguacate', 'uva,sandia']\n",
            "6\n",
            "3\n",
            "['peras', 'manzanas', 'kiwi']\n",
            "['limon', 'aguacate', 'uva,sandia']\n"
          ]
        }
      ]
    },
    {
      "cell_type": "code",
      "metadata": {
        "id": "ce1dkFlw2R_7"
      },
      "source": [
        "  I = [ 2 , 8 ]\n",
        "  D = [3 , 22 ]\n",
        "  resultado = [0] * (len(I) * len(D))\n",
        "  print(resultado)"
      ],
      "execution_count": null,
      "outputs": []
    }
  ]
}